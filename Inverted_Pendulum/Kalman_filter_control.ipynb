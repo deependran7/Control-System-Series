{
 "cells": [
  {
   "cell_type": "code",
   "execution_count": 15,
   "metadata": {},
   "outputs": [],
   "source": [
    "import numpy as np\n",
    "import control\n",
    "import matplotlib.pyplot as plt\n",
    "from numpy import pi"
   ]
  },
  {
   "cell_type": "code",
   "execution_count": 2,
   "metadata": {},
   "outputs": [],
   "source": [
    "def Plot_state(x,dx,th,dth,t):\n",
    "    fig, axs = plt.subplots(2, 2, figsize = (12,10))\n",
    "    axs[0,0].plot(t, x)\n",
    "    axs[0,0].set_xlabel('time')\n",
    "    axs[0,0].set_ylabel('position')\n",
    "    axs[0,0].set_title(\"Position of Cart\")\n",
    "    axs[0,0].grid(True)\n",
    "\n",
    "    axs[0,1].plot(t, dx)\n",
    "    axs[0,1].set_xlabel('time')\n",
    "    axs[0,1].set_ylabel('velocity')\n",
    "    axs[0,1].set_title(\"Velocity Cart\")\n",
    "    axs[0,1].grid(True)\n",
    "\n",
    "    axs[1,0].plot(t, th)\n",
    "    axs[1,0].set_xlabel('time')\n",
    "    axs[1,0].set_ylabel('angle')\n",
    "    axs[1,0].set_title(\"Angle of Pendulum\")\n",
    "    axs[1,0].grid(True)\n",
    "\n",
    "    axs[1,1].plot(t, dth)\n",
    "    axs[1,1].set_xlabel('time')\n",
    "    axs[1,1].set_ylabel('omega')\n",
    "    axs[1,1].set_title(\"Omega of Pendulum\")\n",
    "    axs[1,1].grid(True)"
   ]
  },
  {
   "cell_type": "code",
   "execution_count": 3,
   "metadata": {},
   "outputs": [],
   "source": [
    "class Pendulum_Linear:\n",
    "    def __init__(self, A,B,C,D, x0=None):\n",
    "        self.Gss = control.ss(A,B,C,D)\n",
    "        self.state = x0\n",
    "        self.state = np.zeros((self.Gss.A.shape[0], 1)) if x0 is None else x0\n",
    "        self.change_state(self.state)\n",
    "        \n",
    "    def change_input(self,F):\n",
    "        self.y = np.matmul(self.Gss.C,self.x) + self.Gss.D*(F)\n",
    "        self.output = np.array([self.y[0, 0],self.y[1,0],self.y[2,0], self.y[3,0]]) \n",
    "\n",
    "    def change_state(self,x):\n",
    "        self.x = self.state = x\n",
    "    \n",
    "    def derivative(self,input):\n",
    "        self.change_input(input)\n",
    "        return np.matmul(self.Gss.A,self.x) + self.Gss.B*(input)"
   ]
  },
  {
   "cell_type": "code",
   "execution_count": 4,
   "metadata": {},
   "outputs": [],
   "source": [
    "#modelling of dc motor, V as input and F as output\n",
    "class Motor:\n",
    "    def __init__(self, J,b,R,L,k,r):\n",
    "        self.J = J\n",
    "        self.b = b \n",
    "        self.R = R\n",
    "        self.L = L\n",
    "        self.k = k\n",
    "        self.r = r\n",
    "        self.Gss = self.get_Gss()\n",
    "        self.state = np.array([[0],[0],[0]])\n",
    "        self.change_state(self.state)\n",
    "        \n",
    "\n",
    "    def change_input(self,V):\n",
    "        self.y = np.matmul(self.Gss.C,self.x) + self.Gss.D*(V)\n",
    "        self.output = self.y[0,0]\n",
    "\n",
    "    def change_state(self,x):\n",
    "        self.x = self.state = x\n",
    "\n",
    "    def derivative(self,input):\n",
    "        self.change_input(input)\n",
    "        return np.matmul(self.Gss.A,self.x) + self.Gss.B*(input)\n",
    "    \n",
    "    def get_Gss(self):\n",
    "        A = np.array([[0,1,0],\n",
    "                        [0,-self.b/self.J,self.k/self.J],\n",
    "                        [0, -self.k/self.L, -self.R/self.L]])\n",
    "        B = np.array([[0],[0],[1/self.L]])\n",
    "        C = np.array([[0,(-self.k*self.k/(self.R*self.r)),0]])\n",
    "        D = np.array([[self.k/(self.R*self.r)]])\n",
    "        return control.ss(A,B,C,D)"
   ]
  },
  {
   "cell_type": "code",
   "execution_count": 5,
   "metadata": {},
   "outputs": [],
   "source": [
    "# physical constants\n",
    "M = 0.5;\n",
    "m = 0.2;\n",
    "b = 0.2;\n",
    "I = 0.0034;\n",
    "g = 9.8;\n",
    "l = 0.3;\n",
    "\n",
    "#motor parameter\n",
    "k = 0.5 # motor torque constant\n",
    "R = 6.5 # motor resistance\n",
    "r = 0.05   # shaft radius\n",
    "J = 0.0001\n",
    "L = 0.1*10**(-6)"
   ]
  },
  {
   "cell_type": "code",
   "execution_count": 32,
   "metadata": {},
   "outputs": [],
   "source": [
    "p = I*(M+m)+M*m*l**2;\n",
    "\n",
    "\n",
    "A = np.array([[0   ,   1    ,          0   ,        0],\n",
    "              [0 , -(I+m*l**2)*b/p , (m**2*g*l**2)/p ,  0],\n",
    "              [0 ,     0         ,     0    ,       1],\n",
    "              [0 , -(m*l*b)/p   ,    m*g*l*(M+m)/p , 0]])\n",
    "\n",
    "B = np.array([[0],\n",
    "          [(I+m*l**2)/p],\n",
    "          [0],\n",
    "          [m*l/p]])\n",
    "C = np.array([0 ,0 ,1 ,0]) #we are concerned for only angle\n",
    "D = 0.0"
   ]
  },
  {
   "cell_type": "code",
   "execution_count": 24,
   "metadata": {},
   "outputs": [],
   "source": [
    "pendulum = Pendulum_Linear(A,B,C,D)\n",
    "motor = Motor(J=0.001,b=0.1,R=5,L=0.005,k=0.01,r=0.05)\n",
    "MP_Gss = control.series(motor.Gss,pendulum.Gss)\n",
    "A_mp = MP_Gss.A\n",
    "B_mp = MP_Gss.B\n",
    "C_mp = MP_Gss.C\n",
    "D_mp = MP_Gss.D"
   ]
  },
  {
   "cell_type": "code",
   "execution_count": 39,
   "metadata": {},
   "outputs": [],
   "source": [
    "class motor_pendulum:\n",
    "    def __init__(self,A,B,C,D,x0 = None):\n",
    "        self.n = A.shape[0]\n",
    "        self.Gss= control.ss(A,B,C,D)\n",
    "        self.state = np.zeros((self.n, 1)) if x0 is None else x0 \n",
    "        self.change_state(self.state)\n",
    "\n",
    "    def change_input(self,u):\n",
    "        self.y = np.matmul(self.Gss.C,self.x) + self.Gss.D*(u)\n",
    "        self.output = self.y \n",
    "\n",
    "    def change_state(self,x):\n",
    "        self.x = self.state = x\n",
    "\n",
    "    def derivative(self,input):\n",
    "        self.change_input(input)\n",
    "        return np.matmul(self.Gss.A,self.x) + self.Gss.B*(input)"
   ]
  },
  {
   "cell_type": "code",
   "execution_count": 156,
   "metadata": {},
   "outputs": [],
   "source": [
    "class KalmanFilter(object):\n",
    "    def __init__(self, A, B, C,D, Q = None, R = None, P = None, x0 = None):\n",
    "\n",
    "        self.n = A.shape[1]\n",
    "        self.m = C.shape[1]\n",
    "        self.A = A\n",
    "        self.C = C\n",
    "        self.D = D\n",
    "        self.B = 0 if B is None else B\n",
    "        self.Q = np.eye(self.n) if Q is None else Q\n",
    "        self.R = np.eye(self.n) if R is None else R\n",
    "        self.P = np.eye(self.n) if P is None else P\n",
    "        self.x = np.zeros((self.n, 1)) if x0 is None else x0\n",
    "\n",
    "    def predict(self, u = 0):\n",
    "        self.x = np.dot(self.A, self.x) + np.dot(self.B, u)\n",
    "        self.P = np.dot(np.dot(self.A, self.P), self.A.T) + self.Q\n",
    "\n",
    "    def correction(self, z):\n",
    "        y =  z - np.dot(self.C, self.x)\n",
    "        S = R + np.dot(self.C, np.dot(self.P, self.C.T))\n",
    "        K = np.dot(np.linalg.inv(S),np.dot(self.P, self.C.T))\n",
    "        self.x = self.x + np.dot(K, y)\n",
    "        I = np.eye(self.n)\n",
    "        self.P = np.dot(np.dot(I - np.dot(K, self.C), self.P), \n",
    "        \t(I - np.dot(K, self.C)).T) + np.dot(np.dot(self.R, K), K.T)\n"
   ]
  },
  {
   "cell_type": "code",
   "execution_count": 157,
   "metadata": {},
   "outputs": [],
   "source": [
    "Qreg = np.array([[0., 0., 0., 0., 0., 0., 0.],\n",
    "                  [0., 0., 0., 0., 0., 0., 0.],\n",
    "                  [0., 0., 0., 0., 0., 0., 0.],\n",
    "                  [0., 0., 0., 1., 0., 0., 0.],\n",
    "                  [0., 0., 0., 0., 1., 0., 0.],\n",
    "                  [0., 0., 0., 0., 0., 1., 0.],\n",
    "                  [0., 0., 0., 0., 0., 0., 1.]])\n",
    "Rreg = 1"
   ]
  },
  {
   "cell_type": "code",
   "execution_count": 164,
   "metadata": {},
   "outputs": [],
   "source": [
    "def control_simulation_Kalman(motor_pendulum,x0):\n",
    "    \n",
    "    K, S, E = control.lqr(motor_pendulum.Gss, Qreg, Rreg)\n",
    "\n",
    "    control_input = 0.0\n",
    "    motor_pendulum.change_input(control_input)\n",
    "    theta = []\n",
    "    position = []\n",
    "    velocity = []\n",
    "    omega = []\n",
    "\n",
    "    estimater = KalmanFilter(A_mp,B_mp,C_mp,D_mp,Q=Qreg,R=None,P = None, x0 =x0)\n",
    "\n",
    "    for t in ts:\n",
    "        print(t)\n",
    "        #we can only measure angle\n",
    "        estimater.predict(u=control_input)\n",
    "        est_state = estimater.x\n",
    "\n",
    "        control_input = -np.dot(K[0],est_state).sum()\n",
    "        motor_pendulum.change_input(control_input)\n",
    "        motor_pendulum.change_state(motor_pendulum.state + motor_pendulum.derivative(control_input)*dt)\n",
    "\n",
    "        angle_m = motor_pendulum.output\n",
    "        #current estimated state of pendulum\n",
    "        estimater.correction(z=angle_m)\n",
    "    \n",
    "        position.append(motor_pendulum.state[3])\n",
    "        velocity.append(motor_pendulum.state[4])\n",
    "        theta.append(motor_pendulum.state[5])\n",
    "        omega.append(motor_pendulum.state[6])\n",
    "        \n",
    "    return np.array([position, velocity,theta,omega])"
   ]
  },
  {
   "cell_type": "code",
   "execution_count": 167,
   "metadata": {},
   "outputs": [],
   "source": [
    "sample_time = 10/1000\n",
    "ts = np.arange(0, 1, 10**(-4))\n",
    "dt = ts[1]\n",
    "x0 = np.array([[0],[0],[0],[0],[0],[-20*pi/180],[0]])"
   ]
  },
  {
   "cell_type": "code",
   "execution_count": 168,
   "metadata": {},
   "outputs": [
    {
     "name": "stdout",
     "output_type": "stream",
     "text": [
      "0.0\n",
      "0.0001\n",
      "0.0002\n",
      "0.00030000000000000003\n"
     ]
    },
    {
     "ename": "LinAlgError",
     "evalue": "Singular matrix",
     "output_type": "error",
     "traceback": [
      "\u001b[0;31m---------------------------------------------------------------------------\u001b[0m",
      "\u001b[0;31mLinAlgError\u001b[0m                               Traceback (most recent call last)",
      "\u001b[1;32m/home/deependra/Documents/Control_system_lab/Inverted_Pendulum/Kalman_filter_control.ipynb Cell 13'\u001b[0m in \u001b[0;36m<cell line: 2>\u001b[0;34m()\u001b[0m\n\u001b[1;32m      <a href='vscode-notebook-cell:/home/deependra/Documents/Control_system_lab/Inverted_Pendulum/Kalman_filter_control.ipynb#ch0000014?line=0'>1</a>\u001b[0m motor_pendu \u001b[39m=\u001b[39m motor_pendulum(A_mp,B_mp,C_mp,D_mp,x0)\n\u001b[0;32m----> <a href='vscode-notebook-cell:/home/deependra/Documents/Control_system_lab/Inverted_Pendulum/Kalman_filter_control.ipynb#ch0000014?line=1'>2</a>\u001b[0m x,dx,th,dth  \u001b[39m=\u001b[39m control_simulation_Kalman(motor_pendu,x0)\n",
      "\u001b[1;32m/home/deependra/Documents/Control_system_lab/Inverted_Pendulum/Kalman_filter_control.ipynb Cell 11'\u001b[0m in \u001b[0;36mcontrol_simulation_Kalman\u001b[0;34m(motor_pendulum, x0)\u001b[0m\n\u001b[1;32m     <a href='vscode-notebook-cell:/home/deependra/Documents/Control_system_lab/Inverted_Pendulum/Kalman_filter_control.ipynb#ch0000012?line=23'>24</a>\u001b[0m angle_m \u001b[39m=\u001b[39m motor_pendulum\u001b[39m.\u001b[39moutput\n\u001b[1;32m     <a href='vscode-notebook-cell:/home/deependra/Documents/Control_system_lab/Inverted_Pendulum/Kalman_filter_control.ipynb#ch0000012?line=24'>25</a>\u001b[0m \u001b[39m#current estimated state of pendulum\u001b[39;00m\n\u001b[0;32m---> <a href='vscode-notebook-cell:/home/deependra/Documents/Control_system_lab/Inverted_Pendulum/Kalman_filter_control.ipynb#ch0000012?line=25'>26</a>\u001b[0m estimater\u001b[39m.\u001b[39;49mcorrection(z\u001b[39m=\u001b[39;49mangle_m)\n\u001b[1;32m     <a href='vscode-notebook-cell:/home/deependra/Documents/Control_system_lab/Inverted_Pendulum/Kalman_filter_control.ipynb#ch0000012?line=27'>28</a>\u001b[0m position\u001b[39m.\u001b[39mappend(motor_pendulum\u001b[39m.\u001b[39mstate[\u001b[39m3\u001b[39m])\n\u001b[1;32m     <a href='vscode-notebook-cell:/home/deependra/Documents/Control_system_lab/Inverted_Pendulum/Kalman_filter_control.ipynb#ch0000012?line=28'>29</a>\u001b[0m velocity\u001b[39m.\u001b[39mappend(motor_pendulum\u001b[39m.\u001b[39mstate[\u001b[39m4\u001b[39m])\n",
      "\u001b[1;32m/home/deependra/Documents/Control_system_lab/Inverted_Pendulum/Kalman_filter_control.ipynb Cell 9'\u001b[0m in \u001b[0;36mKalmanFilter.correction\u001b[0;34m(self, z)\u001b[0m\n\u001b[1;32m     <a href='vscode-notebook-cell:/home/deependra/Documents/Control_system_lab/Inverted_Pendulum/Kalman_filter_control.ipynb#ch0000011?line=19'>20</a>\u001b[0m y \u001b[39m=\u001b[39m  z \u001b[39m-\u001b[39m np\u001b[39m.\u001b[39mdot(\u001b[39mself\u001b[39m\u001b[39m.\u001b[39mC, \u001b[39mself\u001b[39m\u001b[39m.\u001b[39mx)\n\u001b[1;32m     <a href='vscode-notebook-cell:/home/deependra/Documents/Control_system_lab/Inverted_Pendulum/Kalman_filter_control.ipynb#ch0000011?line=20'>21</a>\u001b[0m S \u001b[39m=\u001b[39m R \u001b[39m+\u001b[39m np\u001b[39m.\u001b[39mdot(\u001b[39mself\u001b[39m\u001b[39m.\u001b[39mC, np\u001b[39m.\u001b[39mdot(\u001b[39mself\u001b[39m\u001b[39m.\u001b[39mP, \u001b[39mself\u001b[39m\u001b[39m.\u001b[39mC\u001b[39m.\u001b[39mT))\n\u001b[0;32m---> <a href='vscode-notebook-cell:/home/deependra/Documents/Control_system_lab/Inverted_Pendulum/Kalman_filter_control.ipynb#ch0000011?line=21'>22</a>\u001b[0m K \u001b[39m=\u001b[39m np\u001b[39m.\u001b[39mdot(np\u001b[39m.\u001b[39;49mlinalg\u001b[39m.\u001b[39;49minv(S),np\u001b[39m.\u001b[39mdot(\u001b[39mself\u001b[39m\u001b[39m.\u001b[39mP, \u001b[39mself\u001b[39m\u001b[39m.\u001b[39mC\u001b[39m.\u001b[39mT))\n\u001b[1;32m     <a href='vscode-notebook-cell:/home/deependra/Documents/Control_system_lab/Inverted_Pendulum/Kalman_filter_control.ipynb#ch0000011?line=22'>23</a>\u001b[0m \u001b[39mself\u001b[39m\u001b[39m.\u001b[39mx \u001b[39m=\u001b[39m \u001b[39mself\u001b[39m\u001b[39m.\u001b[39mx \u001b[39m+\u001b[39m np\u001b[39m.\u001b[39mdot(K, y)\n\u001b[1;32m     <a href='vscode-notebook-cell:/home/deependra/Documents/Control_system_lab/Inverted_Pendulum/Kalman_filter_control.ipynb#ch0000011?line=23'>24</a>\u001b[0m I \u001b[39m=\u001b[39m np\u001b[39m.\u001b[39meye(\u001b[39mself\u001b[39m\u001b[39m.\u001b[39mn)\n",
      "File \u001b[0;32m<__array_function__ internals>:180\u001b[0m, in \u001b[0;36minv\u001b[0;34m(*args, **kwargs)\u001b[0m\n",
      "File \u001b[0;32m~/.local/lib/python3.10/site-packages/numpy/linalg/linalg.py:545\u001b[0m, in \u001b[0;36minv\u001b[0;34m(a)\u001b[0m\n\u001b[1;32m    543\u001b[0m signature \u001b[39m=\u001b[39m \u001b[39m'\u001b[39m\u001b[39mD->D\u001b[39m\u001b[39m'\u001b[39m \u001b[39mif\u001b[39;00m isComplexType(t) \u001b[39melse\u001b[39;00m \u001b[39m'\u001b[39m\u001b[39md->d\u001b[39m\u001b[39m'\u001b[39m\n\u001b[1;32m    544\u001b[0m extobj \u001b[39m=\u001b[39m get_linalg_error_extobj(_raise_linalgerror_singular)\n\u001b[0;32m--> 545\u001b[0m ainv \u001b[39m=\u001b[39m _umath_linalg\u001b[39m.\u001b[39;49minv(a, signature\u001b[39m=\u001b[39;49msignature, extobj\u001b[39m=\u001b[39;49mextobj)\n\u001b[1;32m    546\u001b[0m \u001b[39mreturn\u001b[39;00m wrap(ainv\u001b[39m.\u001b[39mastype(result_t, copy\u001b[39m=\u001b[39m\u001b[39mFalse\u001b[39;00m))\n",
      "File \u001b[0;32m~/.local/lib/python3.10/site-packages/numpy/linalg/linalg.py:88\u001b[0m, in \u001b[0;36m_raise_linalgerror_singular\u001b[0;34m(err, flag)\u001b[0m\n\u001b[1;32m     87\u001b[0m \u001b[39mdef\u001b[39;00m \u001b[39m_raise_linalgerror_singular\u001b[39m(err, flag):\n\u001b[0;32m---> 88\u001b[0m     \u001b[39mraise\u001b[39;00m LinAlgError(\u001b[39m\"\u001b[39m\u001b[39mSingular matrix\u001b[39m\u001b[39m\"\u001b[39m)\n",
      "\u001b[0;31mLinAlgError\u001b[0m: Singular matrix"
     ]
    }
   ],
   "source": [
    "motor_pendu = motor_pendulum(A_mp,B_mp,C_mp,D_mp,x0)\n",
    "x,dx,th,dth  = control_simulation_Kalman(motor_pendu,x0)"
   ]
  },
  {
   "cell_type": "code",
   "execution_count": 161,
   "metadata": {},
   "outputs": [],
   "source": [
    "n = 7\n",
    "Q = np.eye(n) \n",
    "R = np.eye(n)\n",
    "P = np.eye(n) "
   ]
  },
  {
   "cell_type": "code",
   "execution_count": 162,
   "metadata": {},
   "outputs": [],
   "source": [
    "S = R + np.dot(C_mp, np.dot(P, C_mp.T))"
   ]
  },
  {
   "cell_type": "code",
   "execution_count": 163,
   "metadata": {},
   "outputs": [],
   "source": [
    "K = np.dot(np.linalg.inv(S),np.dot(P,C_mp.T))"
   ]
  },
  {
   "cell_type": "code",
   "execution_count": null,
   "metadata": {},
   "outputs": [],
   "source": []
  }
 ],
 "metadata": {
  "kernelspec": {
   "display_name": "Python 3.10.4 64-bit",
   "language": "python",
   "name": "python3"
  },
  "language_info": {
   "codemirror_mode": {
    "name": "ipython",
    "version": 3
   },
   "file_extension": ".py",
   "mimetype": "text/x-python",
   "name": "python",
   "nbconvert_exporter": "python",
   "pygments_lexer": "ipython3",
   "version": "3.10.4"
  },
  "orig_nbformat": 4,
  "vscode": {
   "interpreter": {
    "hash": "916dbcbb3f70747c44a77c7bcd40155683ae19c65e1c03b4aa3499c5328201f1"
   }
  }
 },
 "nbformat": 4,
 "nbformat_minor": 2
}
