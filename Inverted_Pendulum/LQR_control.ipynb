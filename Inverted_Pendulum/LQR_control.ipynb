{
 "cells": [
  {
   "cell_type": "code",
   "execution_count": 15,
   "metadata": {},
   "outputs": [],
   "source": [
    "import numpy as np\n",
    "import control\n",
    "import matplotlib.pyplot as plt"
   ]
  },
  {
   "cell_type": "code",
   "execution_count": 13,
   "metadata": {},
   "outputs": [],
   "source": [
    "def Plot_state(x,dx,th,dth,t):\n",
    "    fig, axs = plt.subplots(2, 2, figsize = (12,10))\n",
    "    axs[0,0].plot(t, x)\n",
    "    axs[0,0].set_xlabel('time')\n",
    "    axs[0,0].set_ylabel('position')\n",
    "    axs[0,0].set_title(\"Position of Cart\")\n",
    "    axs[0,0].grid(True)\n",
    "\n",
    "    axs[0,1].plot(t, dx)\n",
    "    axs[0,1].set_xlabel('time')\n",
    "    axs[0,1].set_ylabel('velocity')\n",
    "    axs[0,1].set_title(\"Velocity Cart\")\n",
    "    axs[0,1].grid(True)\n",
    "\n",
    "    axs[1,0].plot(t, th)\n",
    "    axs[1,0].set_xlabel('time')\n",
    "    axs[1,0].set_ylabel('angle')\n",
    "    axs[1,0].set_title(\"Angle of Pendulum\")\n",
    "    axs[1,0].grid(True)\n",
    "\n",
    "    axs[1,1].plot(t, dth)\n",
    "    axs[1,1].set_xlabel('time')\n",
    "    axs[1,1].set_ylabel('omega')\n",
    "    axs[1,1].set_title(\"Omega of Pendulum\")\n",
    "    axs[1,1].grid(True)"
   ]
  },
  {
   "cell_type": "code",
   "execution_count": 1,
   "metadata": {},
   "outputs": [],
   "source": [
    "class Pendulum_Linear:\n",
    "    def __init__(self, A,B,C,D, x0=None):\n",
    "        self.Gss = control.ss(A,B,C,D)\n",
    "        self.state = x0\n",
    "        self.state = np.zeros((self.Gss.A.shape[0], 1)) if x0 is None else x0\n",
    "        self.change_state(self.state)\n",
    "        \n",
    "    def change_input(self,F):\n",
    "        self.y = np.matmul(self.Gss.C,self.x) + self.Gss.D*(F)\n",
    "        self.output = np.array([self.y[0, 0],self.y[1,0],self.y[2,0], self.y[3,0]]) \n",
    "\n",
    "    def change_state(self,x):\n",
    "        self.x = self.state = x\n",
    "    \n",
    "    def derivative(self,input):\n",
    "        self.change_input(input)\n",
    "        return np.matmul(self.Gss.A,self.x) + self.Gss.B*(input)"
   ]
  },
  {
   "cell_type": "code",
   "execution_count": 3,
   "metadata": {},
   "outputs": [],
   "source": [
    "#modelling of dc motor, V as input and F as output\n",
    "class Motor:\n",
    "    def __init__(self, J,b,R,L,k,r):\n",
    "        self.J = J\n",
    "        self.b = b \n",
    "        self.R = R\n",
    "        self.L = L\n",
    "        self.k = k\n",
    "        self.r = r\n",
    "        self.Gss = self.get_Gss()\n",
    "        self.state = np.array([[0],[0],[0]])\n",
    "        self.change_state(self.state)\n",
    "        \n",
    "\n",
    "    def change_input(self,V):\n",
    "        self.y = np.matmul(self.Gss.C,self.x) + self.Gss.D*(V)\n",
    "        self.output = self.y[0,0]\n",
    "\n",
    "    def change_state(self,x):\n",
    "        self.x = self.state = x\n",
    "\n",
    "    def derivative(self,input):\n",
    "        self.change_input(input)\n",
    "        return np.matmul(self.Gss.A,self.x) + self.Gss.B*(input)\n",
    "    \n",
    "    def get_Gss(self):\n",
    "        A = np.array([[0,1,0],\n",
    "                        [0,-self.b/self.J,self.k/self.J],\n",
    "                        [0, -self.k/self.L, -self.R/self.L]])\n",
    "        B = np.array([[0],[0],[1/self.L]])\n",
    "        C = np.array([[0,(-self.k*self.k/(self.R*self.r)),0]])\n",
    "        D = np.array([[self.k/(self.R*self.r)]])\n",
    "        return control.ss(A,B,C,D)"
   ]
  },
  {
   "cell_type": "code",
   "execution_count": 6,
   "metadata": {},
   "outputs": [],
   "source": [
    "# physical constants\n",
    "M = 0.5;\n",
    "m = 0.2;\n",
    "b = 0.2;\n",
    "I = 0.0034;\n",
    "g = 9.8;\n",
    "l = 0.3;\n",
    "\n",
    "#motor parameter\n",
    "k = 0.5 # motor torque constant\n",
    "R = 6.5 # motor resistance\n",
    "r = 0.05   # shaft radius\n",
    "J = 0.0001\n",
    "L = 0.1*10**(-6)"
   ]
  },
  {
   "cell_type": "code",
   "execution_count": 7,
   "metadata": {},
   "outputs": [],
   "source": [
    "p = I*(M+m)+M*m*l**2;\n",
    "\n",
    "\n",
    "A = np.array([[0   ,   1    ,          0   ,        0],\n",
    "              [0 , -(I+m*l**2)*b/p , (m**2*g*l**2)/p ,  0],\n",
    "              [0 ,     0         ,     0    ,       1],\n",
    "              [0 , -(m*l*b)/p   ,    m*g*l*(M+m)/p , 0]])\n",
    "\n",
    "B = np.array([[0],\n",
    "          [(I+m*l**2)/p],\n",
    "          [0],\n",
    "          [m*l/p]])\n",
    "C = np.array([[1 ,0 ,0 ,0],\n",
    "              [0 ,1 ,0 ,0],\n",
    "              [0 ,0 ,1 ,0],\n",
    "              [0 ,0 ,0 ,1]])\n",
    "D = np.array([[0],\n",
    "     [0],\n",
    "     [0],\n",
    "     [0]])"
   ]
  },
  {
   "cell_type": "code",
   "execution_count": 8,
   "metadata": {},
   "outputs": [],
   "source": [
    "pendulum = Pendulum_Linear(A,B,C,D)\n",
    "motor = Motor(J=0.001,b=0.1,R=5,L=0.005,k=0.01,r=0.05)\n",
    "MP_Gss = control.series(motor.Gss,pendulum.Gss)\n",
    "A_mp = MP_Gss.A\n",
    "B_mp = MP_Gss.B\n",
    "C_mp = MP_Gss.C\n",
    "D_mp = MP_Gss.D"
   ]
  },
  {
   "cell_type": "code",
   "execution_count": 9,
   "metadata": {},
   "outputs": [],
   "source": [
    "class motor_pendulum:\n",
    "    def __init__(self,A,B,C,D,x0 = None):\n",
    "        self.n = A.shape[0]\n",
    "        self.Gss= control.ss(A,B,C,D)\n",
    "        self.state = np.zeros((self.n, 1)) if x0 is None else x0 \n",
    "        self.change_state(self.state)\n",
    "\n",
    "    def change_input(self,u):\n",
    "        self.y = np.matmul(self.Gss.C,self.x) + self.Gss.D*(u)\n",
    "        self.output = np.array([self.y[0, 0],self.y[1,0],self.y[2,0], self.y[3,0]]) \n",
    "\n",
    "    def change_state(self,x):\n",
    "        self.x = self.state = x\n",
    "\n",
    "    def derivative(self,input):\n",
    "        self.change_input(input)\n",
    "        return np.matmul(self.Gss.A,self.x) + self.Gss.B*(input)"
   ]
  },
  {
   "cell_type": "code",
   "execution_count": 10,
   "metadata": {},
   "outputs": [],
   "source": [
    "def control_simulation_lqr(motor_pendulum):\n",
    "    Q = np.array([[0., 0., 0., 0., 0., 0., 0.],\n",
    "                  [0., 0., 0., 0., 0., 0., 0.],\n",
    "                  [0., 0., 0., 0., 0., 0., 0.],\n",
    "                  [0., 0., 0., 1., 0., 0., 0.],\n",
    "                  [0., 0., 0., 0., 1., 0., 0.],\n",
    "                  [0., 0., 0., 0., 0., 1., 0.],\n",
    "                  [0., 0., 0., 0., 0., 0., 1.]])\n",
    "    R = 1\n",
    "    K, S, E = control.lqr(motor_pendulum.Gss, Q, R)\n",
    "\n",
    "    motor_pendulum.change_input(0.0)\n",
    "    \n",
    "    theta = []\n",
    "    position = []\n",
    "    velocity = []\n",
    "    omega = []\n",
    "    for t in ts:\n",
    "        act_state = motor_pendulum.state\n",
    "        control_voltage = -np.dot(K[0],act_state).sum()\n",
    "        motor_pendulum.change_input(control_voltage)\n",
    "        motor_pendulum.change_state(motor_pendulum.state + motor_pendulum.derivative(control_voltage)*dt)\n",
    "    \n",
    "        position.append(motor_pendulum.output[0])\n",
    "        velocity.append(motor_pendulum.output[1])\n",
    "        theta.append(motor_pendulum.output[2])\n",
    "        omega.append(motor_pendulum.output[3])\n",
    "        \n",
    "    return np.array([position, velocity,theta,omega])"
   ]
  },
  {
   "cell_type": "code",
   "execution_count": 11,
   "metadata": {},
   "outputs": [],
   "source": [
    "ts = np.arange(0, 50, 10**(-4))\n",
    "dt = ts[1]\n",
    "x0 = np.array([[0.0],[0.0],[0.0],[0.0],[0.0],[0.01],[0.0]])"
   ]
  },
  {
   "cell_type": "code",
   "execution_count": 12,
   "metadata": {},
   "outputs": [],
   "source": [
    "motor_pendu = motor_pendulum(A_mp,B_mp,C_mp,D_mp,x0)\n",
    "x,dx,th,dth = control_simulation_lqr(motor_pendu)"
   ]
  },
  {
   "cell_type": "code",
   "execution_count": 16,
   "metadata": {},
   "outputs": [
    {
     "data": {
      "image/png": "[encoded data removed]",
      "text/plain": [
       "<Figure size 864x720 with 4 Axes>"
      ]
     },
     "metadata": {
      "needs_background": "light"
     },
     "output_type": "display_data"
    }
   ],
   "source": [
    "Plot_state(x,dx,th,dth,ts)"
   ]
  },
  {
   "cell_type": "code",
   "execution_count": null,
   "metadata": {},
   "outputs": [],
   "source": []
  }
 ],
 "metadata": {
  "kernelspec": {
   "display_name": "Python 3.10.4 64-bit",
   "language": "python",
   "name": "python3"
  },
  "language_info": {
   "codemirror_mode": {
    "name": "ipython",
    "version": 3
   },
   "file_extension": ".py",
   "mimetype": "text/x-python",
   "name": "python",
   "nbconvert_exporter": "python",
   "pygments_lexer": "ipython3",
   "version": "3.10.4"
  },
  "orig_nbformat": 4,
  "vscode": {
   "interpreter": {
    "hash": "916dbcbb3f70747c44a77c7bcd40155683ae19c65e1c03b4aa3499c5328201f1"
   }
  }
 },
 "nbformat": 4,
 "nbformat_minor": 2
}
